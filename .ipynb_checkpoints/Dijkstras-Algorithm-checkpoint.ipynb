{
 "cells": [
  {
   "cell_type": "markdown",
   "metadata": {},
   "source": [
    "# Dijkstra's Algorithm\n",
    "We are going to leverage Dijkstra's shortest path algorithm to compute the shortest path from an origin node to a destination node in a given network. The network leveraged in this example is shown below:\n",
    "![](Network-ShortestPath.png)"
   ]
  },
  {
   "cell_type": "code",
   "execution_count": 9,
   "metadata": {},
   "outputs": [],
   "source": [
    "import pandas as pd\n",
    "import numpy as np\n",
    "import copy"
   ]
  },
  {
   "cell_type": "code",
   "execution_count": 43,
   "metadata": {},
   "outputs": [],
   "source": [
    "# capture the link generalized costs between nodes in a dictionary\n",
    "distances= {\n",
    "           '1': {'2': 4, '3': 2},\n",
    "           '2':{'4': 5},\n",
    "           '3':{'2': 1, '4': 8, '5': 10},\n",
    "           '4':{'5': 2, '6': 6},\n",
    "           '5':{'6': 2},\n",
    "           '6':{}\n",
    "           }\n",
    "\n",
    "# denote two dictionaries, the former to store the predecessor nodes and the latter to store and update the generalized cost (could also be representative of distance, travel time, cost) of the nodes as the algorithm progresses\n",
    "city_records= {}\n",
    "dist_records= {}\n",
    "\n",
    "# denote a graph and populate it with infinity values\n",
    "for k in distances.keys():\n",
    "    dist_records[k]= float('Inf')\n",
    "    city_records[k]= None\n",
    "        \n",
    "# denote a list to store all nodes that were visited\n",
    "visited= []\n",
    "\n",
    "# assign the start and end nodes to two variables\n",
    "start= '1'\n",
    "end= '6'"
   ]
  },
  {
   "cell_type": "markdown",
   "metadata": {},
   "source": [
    "We define the function for selecting unvisited nodes based on the minimum total distance/travel time/generalized cost as shown below:"
   ]
  },
  {
   "cell_type": "code",
   "execution_count": 39,
   "metadata": {},
   "outputs": [],
   "source": [
    "# function selecting the unvisited node with the least total distance from the start node\n",
    "def pick_node(dist_records):\n",
    "    \n",
    "    dist_records2= copy.deepcopy(dist_records)\n",
    "    for node in visited:\n",
    "        del dist_records2[node]\n",
    "        \n",
    "    return min(dist_records2, key= dist_records2.get)"
   ]
  },
  {
   "cell_type": "markdown",
   "metadata": {},
   "source": [
    "We define the shortest path algorithm below."
   ]
  },
  {
   "cell_type": "code",
   "execution_count": 40,
   "metadata": {},
   "outputs": [],
   "source": [
    "#define shortest path algorithm\n",
    "def shortest_path(start_node, end_node, records):\n",
    "    \n",
    "    shortest_path= [end_node]\n",
    "    while True:\n",
    "        shortest_path.append(records.get(end_node))\n",
    "        end_node= records.get(end_node)\n",
    "\n",
    "        if end_node == start_node:\n",
    "            break\n",
    "\n",
    "    # process to reverse the list to get the nodes from start to end      \n",
    "    return shortest_path[::-1]"
   ]
  },
  {
   "cell_type": "code",
   "execution_count": 41,
   "metadata": {},
   "outputs": [],
   "source": [
    "def djikstras_algo(start, end, dist_records, city_records, visited):\n",
    "    # update the two dictionaries to make sure that the cost of the start node is 0 and it's predecessor node is itself\n",
    "    \n",
    "    dist_records[start]= 0\n",
    "    city_records[start]= start\n",
    "\n",
    "    if start == end:\n",
    "        print('shortest path is {}'.format(0))\n",
    "\n",
    "    while True:    \n",
    "        node= pick_node(dist_records)\n",
    "        for k in distances[node].keys():\n",
    "            if k in visited:\n",
    "                continue\n",
    "\n",
    "            if dist_records[node] + distances[node].get(k) < dist_records[k]:\n",
    "                dist_records[k]= dist_records[node] + distances[node].get(k)\n",
    "                city_records[k]= node\n",
    "\n",
    "        visited.append(node)\n",
    "\n",
    "        if end in visited:\n",
    "            break\n",
    "\n",
    "    print('Shortest path is: ', shortest_path(start_node= start, end_node= end, records= city_records))\n",
    "    print('Lowest generalized cost is: {} units '.format(dist_records.get(end)))"
   ]
  },
  {
   "cell_type": "code",
   "execution_count": 44,
   "metadata": {},
   "outputs": [
    {
     "name": "stdout",
     "output_type": "stream",
     "text": [
      "Shortest path is:  ['1', '3', '2', '4', '5', '6']\n",
      "Lowest generalized cost is: 12 units \n"
     ]
    }
   ],
   "source": [
    "djikstras_algo(start, end, dist_records, city_records, visited)"
   ]
  },
  {
   "cell_type": "code",
   "execution_count": null,
   "metadata": {},
   "outputs": [],
   "source": []
  }
 ],
 "metadata": {
  "kernelspec": {
   "display_name": "Python 3",
   "language": "python",
   "name": "python3"
  },
  "language_info": {
   "codemirror_mode": {
    "name": "ipython",
    "version": 3
   },
   "file_extension": ".py",
   "mimetype": "text/x-python",
   "name": "python",
   "nbconvert_exporter": "python",
   "pygments_lexer": "ipython3",
   "version": "3.7.4"
  }
 },
 "nbformat": 4,
 "nbformat_minor": 1
}
