{
 "cells": [
  {
   "cell_type": "markdown",
   "metadata": {},
   "source": [
    "# NetworkX: An introduction"
   ]
  },
  {
   "cell_type": "markdown",
   "metadata": {},
   "source": [
    "The focus of this tutorial is to provide a basic introduction to using NetworkX and calling Dijkstras shortest path algorithm. NetworkX is a python package which can be used for network analysis. The NetworkX package contains several standard network algorithms. For more information, refer to the NetworkX documentation [here](https://networkx.org/documentation/latest/index.html). Please note that this Jupyter Notebook originates from the repository available [here](http://avinashu.com/tutorial/indexPythonlong.html), written by Profs. Avinash Unnikrishnan and Stephen Boyles.\n",
    "\n",
    "## Initializing the Network\n",
    "\n",
    "The first step is to import the networkx module."
   ]
  },
  {
   "cell_type": "code",
   "execution_count": 1,
   "metadata": {},
   "outputs": [],
   "source": [
    "import networkx as nx"
   ]
  },
  {
   "cell_type": "markdown",
   "metadata": {},
   "source": [
    "Next we initialize an empty Graph object. "
   ]
  },
  {
   "cell_type": "code",
   "execution_count": 2,
   "metadata": {},
   "outputs": [],
   "source": [
    "# The following line initializes two empty directed graph objects\n",
    "G1=nx.DiGraph()\n",
    "G2=nx.DiGraph()\n",
    "# An empty undirected graph object can be initialized using the command\n",
    "# G=nx.Graph()"
   ]
  },
  {
   "cell_type": "markdown",
   "metadata": {},
   "source": [
    "Let us look at the network presented in Ahuja, Magnanti, and Orlin (1993) classic book on Network Flows. We can enter the nodes in multiple ways."
   ]
  },
  {
   "cell_type": "code",
   "execution_count": 3,
   "metadata": {},
   "outputs": [
    {
     "data": {
      "text/plain": [
       "NodeView((1, 2, 3, 4, 5, 6))"
      ]
     },
     "execution_count": 3,
     "metadata": {},
     "output_type": "execute_result"
    }
   ],
   "source": [
    "G1.add_node(1)\n",
    "G1.add_node(2)\n",
    "G1.add_node(3)\n",
    "G1.add_node(4)\n",
    "G1.add_node(5)\n",
    "G1.add_node(6)\n",
    "G1.nodes()"
   ]
  },
  {
   "cell_type": "code",
   "execution_count": 4,
   "metadata": {},
   "outputs": [
    {
     "data": {
      "text/plain": [
       "NodeView((1, 2, 3, 4, 5, 6))"
      ]
     },
     "execution_count": 4,
     "metadata": {},
     "output_type": "execute_result"
    }
   ],
   "source": [
    "list_nodes = [1, 2, 3, 4, 5, 6]\n",
    "G2.add_nodes_from(list_nodes)\n",
    "G2.nodes()"
   ]
  },
  {
   "cell_type": "markdown",
   "metadata": {},
   "source": [
    "Let us now add the arcs. As with nodes, there are multiple ways to add the arcs."
   ]
  },
  {
   "cell_type": "code",
   "execution_count": 5,
   "metadata": {},
   "outputs": [
    {
     "data": {
      "text/plain": [
       "OutEdgeView([(1, 2), (1, 3), (2, 3), (2, 4), (2, 5), (3, 5), (4, 6), (5, 4), (5, 6)])"
      ]
     },
     "execution_count": 5,
     "metadata": {},
     "output_type": "execute_result"
    }
   ],
   "source": [
    "G1.add_edge(1, 2, weight = 2.0)\n",
    "G1.add_edge(1, 3, weight = 4.0)\n",
    "G1.add_edge(2, 3, weight = 1.0)\n",
    "G1.add_edge(2, 4, weight = 4.0)\n",
    "G1.add_edge(2, 5, weight = 2.0)\n",
    "G1.add_edge(3, 5, weight = 3.0)\n",
    "G1.add_edge(4, 6, weight = 2.0)\n",
    "G1.add_edge(5, 4, weight = 3.0)\n",
    "G1.add_edge(5, 6, weight = 2.0)\n",
    "G1.edges()"
   ]
  },
  {
   "cell_type": "code",
   "execution_count": 6,
   "metadata": {},
   "outputs": [
    {
     "data": {
      "text/plain": [
       "OutEdgeView([(1, 2), (1, 3), (2, 3), (2, 4), (2, 5), (3, 5), (4, 6), (5, 4), (5, 6)])"
      ]
     },
     "execution_count": 6,
     "metadata": {},
     "output_type": "execute_result"
    }
   ],
   "source": [
    "list_arcs = [(1,2,2.0) , (1,3,4.0) , (2,3,1.0) , (2,4,4.0) , (2,5,2.0) , (3,5,3.0) , (4,6,2.0) , (5,4,3.0) , (5,6,2.0)]\n",
    "G2.add_weighted_edges_from(list_arcs)\n",
    "G2.edges()"
   ]
  },
  {
   "cell_type": "markdown",
   "metadata": {},
   "source": [
    "## Shortest Path\n",
    "\n",
    "Let us now determine the shortest path using Djikstras algorithm. The function shown below returns a list which stores the shortest path from each origin node the destination node."
   ]
  },
  {
   "cell_type": "code",
   "execution_count": 7,
   "metadata": {},
   "outputs": [
    {
     "name": "stdout",
     "output_type": "stream",
     "text": [
      "[1, 2, 5, 6]\n"
     ]
    }
   ],
   "source": [
    "sp = nx.dijkstra_path(G1,source = 1, target = 6)\n",
    "print(sp)"
   ]
  },
  {
   "cell_type": "markdown",
   "metadata": {},
   "source": [
    " Note that there are several other routines to determine the shortest path."
   ]
  },
  {
   "cell_type": "code",
   "execution_count": 8,
   "metadata": {},
   "outputs": [
    {
     "name": "stdout",
     "output_type": "stream",
     "text": [
      "[1, 2, 4, 6]\n"
     ]
    }
   ],
   "source": [
    "print(nx.shortest_path(G1,source = 1, target = 6))"
   ]
  },
  {
   "cell_type": "markdown",
   "metadata": {},
   "source": [
    "Let us now visualize the network along with the shortest path. Note that in networkx and matplotlib, the arrows in the directed arcs are represented as notches and not arrows which is annoying. "
   ]
  },
  {
   "cell_type": "code",
   "execution_count": 9,
   "metadata": {},
   "outputs": [],
   "source": [
    "# First we import the matplotlib python plotting package\n",
    "import matplotlib.pyplot as plt\n",
    "# We then set the coordinates of each node\n",
    "G1.add_node(1,pos = (0,0))\n",
    "G1.add_node(2,pos = (2,2))\n",
    "G1.add_node(3,pos = (2,-2))\n",
    "G1.add_node(4,pos = (5,2))\n",
    "G1.add_node(5,pos = (5,-2))\n",
    "G1.add_node(6,pos = (7,0))"
   ]
  },
  {
   "cell_type": "code",
   "execution_count": 10,
   "metadata": {},
   "outputs": [],
   "source": [
    "# The positions of each node are stored in a dictionary\n",
    "node_pos=nx.get_node_attributes(G1,'pos')\n",
    "# The edge weights of each arcs are stored in a dictionary\n",
    "arc_weight=nx.get_edge_attributes(G1,'weight')"
   ]
  },
  {
   "cell_type": "code",
   "execution_count": 11,
   "metadata": {},
   "outputs": [],
   "source": [
    "# Create a list of arcs in the shortest path using the zip command and store it in red edges\n",
    "red_edges = list(zip(sp,sp[1:]))\n",
    "# If the node is in the shortest path, set it to red, else set it to white color\n",
    "node_col = ['white' if not node in sp else 'red' for node in G1.nodes()]\n",
    "# If the edge is in the shortest path set it to red, else set it to white color\n",
    "edge_col = ['black' if not edge in red_edges else 'red' for edge in G1.edges()]"
   ]
  },
  {
   "cell_type": "code",
   "execution_count": 24,
   "metadata": {},
   "outputs": [
    {
     "data": {
      "image/png": "[encoded data removed]",
      "text/plain": [
       "<Figure size 432x288 with 1 Axes>"
      ]
     },
     "metadata": {},
     "output_type": "display_data"
    }
   ],
   "source": [
    "# Draw the nodes\n",
    "nx.draw_networkx(G1, node_pos, node_color= node_col, node_size=450)\n",
    "# Draw the edges\n",
    "nx.draw_networkx_edges(G1, node_pos,edge_color= edge_col)\n",
    "# Draw the edge labels\n",
    "nx.draw_networkx_edge_labels(G1, node_pos,edge_labels=arc_weight)\n",
    "# Remove the axis\n",
    "plt.axis('off')\n",
    "# Show the plot\n",
    "plt.show()"
   ]
  },
  {
   "cell_type": "code",
   "execution_count": null,
   "metadata": {},
   "outputs": [],
   "source": []
  },
  {
   "cell_type": "code",
   "execution_count": null,
   "metadata": {},
   "outputs": [],
   "source": []
  }
 ],
 "metadata": {
  "anaconda-cloud": {},
  "kernelspec": {
   "display_name": "Python 3",
   "language": "python",
   "name": "python3"
  },
  "language_info": {
   "codemirror_mode": {
    "name": "ipython",
    "version": 3
   },
   "file_extension": ".py",
   "mimetype": "text/x-python",
   "name": "python",
   "nbconvert_exporter": "python",
   "pygments_lexer": "ipython3",
   "version": "3.7.4"
  }
 },
 "nbformat": 4,
 "nbformat_minor": 4
}
