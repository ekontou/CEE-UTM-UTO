{
 "cells": [
  {
   "cell_type": "markdown",
   "metadata": {},
   "source": [
    "## Example: Elastic Demand Equilibrium\n"
   ]
  },
  {
   "cell_type": "code",
   "execution_count": 1,
   "metadata": {},
   "outputs": [],
   "source": [
    "import numpy as np\n",
    "import matplotlib.pyplot as plt\n",
    "from scipy.optimize import minimize"
   ]
  },
  {
   "cell_type": "markdown",
   "metadata": {},
   "source": [
    "Assume one highway link connecting 2 cities (origin and destination).\n",
    "* Link performance function: $t=10+0.01x$ (1)\n",
    "* Demand function: $x=5000-100t$ (2)\n",
    "\n",
    "Solve the problem via (a) observation, (b) inverse demand function, (c) excess demand function."
   ]
  },
  {
   "cell_type": "markdown",
   "metadata": {},
   "source": [
    "(a) problem solution via observation: At equilibrium solve the system of equations (1), (2) and obtain **$x^*=2000$ vehicles per hour** and **$t^*=30$ minutes**"
   ]
  },
  {
   "cell_type": "markdown",
   "metadata": {},
   "source": [
    "(b) leverage inverse demand function, by solving for t from (2): $D^{-1}=50-0.01x$"
   ]
  },
  {
   "cell_type": "markdown",
   "metadata": {},
   "source": [
    "Formulate the problem leveraging the inverse demand function: $\\min{Z}=\\int_0^x(10+0.01w)dw-\\int_0^x(50-0.01w)dw$"
   ]
  },
  {
   "cell_type": "code",
   "execution_count": 2,
   "metadata": {},
   "outputs": [],
   "source": [
    "def Z(x):\n",
    "    return 10 * x + 0.005* x**2 - 50 * x + 0.005 * x**2"
   ]
  },
  {
   "cell_type": "code",
   "execution_count": 7,
   "metadata": {},
   "outputs": [
    {
     "data": {
      "image/png": "[encoded data removed]",
      "text/plain": [
       "<Figure size 432x288 with 1 Axes>"
      ]
     },
     "metadata": {
      "needs_background": "light"
     },
     "output_type": "display_data"
    }
   ],
   "source": [
    "x = np.arange(0, 6000, 100)\n",
    "plt.plot(x, Z(x)) \n",
    "plt.xlabel('$x$')\n",
    "plt.ylabel('$Z(x)$')\n",
    "plt.show()"
   ]
  },
  {
   "cell_type": "code",
   "execution_count": 4,
   "metadata": {},
   "outputs": [
    {
     "data": {
      "text/plain": [
       "'Optimization terminated successfully.'"
      ]
     },
     "execution_count": 4,
     "metadata": {},
     "output_type": "execute_result"
    }
   ],
   "source": [
    "result = minimize(Z, x0=0)\n",
    "result.message"
   ]
  },
  {
   "cell_type": "code",
   "execution_count": 5,
   "metadata": {},
   "outputs": [
    {
     "data": {
      "text/plain": [
       "array([2000.00969994])"
      ]
     },
     "execution_count": 5,
     "metadata": {},
     "output_type": "execute_result"
    }
   ],
   "source": [
    "result.x # print the optimal link flow"
   ]
  },
  {
   "cell_type": "code",
   "execution_count": 6,
   "metadata": {},
   "outputs": [
    {
     "data": {
      "text/plain": [
       "-39999.99999905911"
      ]
     },
     "execution_count": 6,
     "metadata": {},
     "output_type": "execute_result"
    }
   ],
   "source": [
    "result.fun # print the Z function optimal outcome"
   ]
  },
  {
   "cell_type": "markdown",
   "metadata": {},
   "source": [
    "Optimal solution: $x^*=2000$ vehicles per hour"
   ]
  },
  {
   "cell_type": "markdown",
   "metadata": {},
   "source": [
    "(c) leverage the excess demand function: Before diving into that we need to assume an upper bound of demand $\\bar x$"
   ]
  },
  {
   "cell_type": "markdown",
   "metadata": {},
   "source": [
    "We will follow the process described in **pre-lecture12 in page 23** where the upper bound $\\bar x$ is set equal to the minimal free flow travel time when flow equals 0. Thus, for $x=0$ from (1) $t=10$ minutes, and from (2) $\\bar x=4000$."
   ]
  },
  {
   "cell_type": "markdown",
   "metadata": {},
   "source": [
    "The excess demand in that case is $e=\\bar x- x$ or $e=4000-x$. The excess-demand function is $t=50-0.01(4000-e)=0.01e+10$ The minimization problem in this case can be written as follows."
   ]
  },
  {
   "cell_type": "markdown",
   "metadata": {},
   "source": [
    "Formulate the problem leveraging the excess-demand function: $\\min{Z}=\\int_0^x(10+0.01w)dw+\\int_0^e(0.01v+10)dv$"
   ]
  },
  {
   "cell_type": "code",
   "execution_count": 8,
   "metadata": {},
   "outputs": [
    {
     "name": "stdout",
     "output_type": "stream",
     "text": [
      "[2000.00497577 1999.99502423]\n"
     ]
    }
   ],
   "source": [
    "def Z2(vars):\n",
    "    x, e = vars\n",
    "    return 10 * x + 0.005* x**2 + 10 * e + 0.005 * e**2\n",
    "\n",
    "def constraint(vars):\n",
    "    x, e = vars\n",
    "    return x + e - 4000\n",
    "\n",
    "x_bounds = (0, None)\n",
    "e_bounds = (0, None)\n",
    "initial_guess = [0,4000]\n",
    "res = minimize(Z2, initial_guess, constraints={\"fun\": constraint, \"type\": \"eq\"}, bounds=[x_bounds, e_bounds])\n",
    "if res.success:\n",
    "    opt_vars = res.x\n",
    "    print(opt_vars)\n",
    "else:\n",
    "    raise ValueError(res.message)"
   ]
  },
  {
   "cell_type": "markdown",
   "metadata": {},
   "source": [
    "Optimal solution: $x^*=2000$ vehicles per hour and $e^*=2000$ since $e=4000-x$."
   ]
  },
  {
   "cell_type": "markdown",
   "metadata": {},
   "source": [
    "We could assume that $\\bar x=5000$ vehicles per hour with excess demand as  $e=5000-x$. The excess-demand function is $t=50-0.01(5000-e)=0.01e$ The minimization problem in this case can be written as follows."
   ]
  },
  {
   "cell_type": "markdown",
   "metadata": {},
   "source": [
    "Formulate the problem leveraging the excess-demand function: $\\min{Z}=\\int_0^x(10+0.01w)dw+\\int_0^e(0.01v)dv$"
   ]
  },
  {
   "cell_type": "code",
   "execution_count": 10,
   "metadata": {},
   "outputs": [
    {
     "name": "stdout",
     "output_type": "stream",
     "text": [
      "[1999.95605595 3000.04394405]\n"
     ]
    }
   ],
   "source": [
    "def Z3(vars):\n",
    "    x, e = vars\n",
    "    return 10 * x + 0.005* x**2 + 0.005 * e**2 \n",
    "\n",
    "def constraint(vars):\n",
    "    x, e = vars\n",
    "    return x + e - 5000\n",
    "\n",
    "x_bounds = (0, None)\n",
    "e_bounds = (0, None)\n",
    "initial_guess = [0,5000]\n",
    "res3 = minimize(Z3, initial_guess, constraints={\"fun\": constraint, \"type\": \"eq\"}, bounds=[x_bounds, e_bounds])\n",
    "if res.success:\n",
    "    opt_vars = res3.x\n",
    "    print(opt_vars)\n",
    "else:\n",
    "    raise ValueError(res3.message)"
   ]
  },
  {
   "cell_type": "markdown",
   "metadata": {},
   "source": [
    "Optimal solution: $x^*=2000$ vehicles per hour and $e^*=3000$ since $e=5000-x$."
   ]
  },
  {
   "cell_type": "code",
   "execution_count": null,
   "metadata": {},
   "outputs": [],
   "source": []
  }
 ],
 "metadata": {
  "kernelspec": {
   "display_name": "Python 3",
   "language": "python",
   "name": "python3"
  },
  "language_info": {
   "codemirror_mode": {
    "name": "ipython",
    "version": 3
   },
   "file_extension": ".py",
   "mimetype": "text/x-python",
   "name": "python",
   "nbconvert_exporter": "python",
   "pygments_lexer": "ipython3",
   "version": "3.7.4"
  }
 },
 "nbformat": 4,
 "nbformat_minor": 2
}
