{
 "cells": [
  {
   "cell_type": "code",
   "execution_count": 1,
   "metadata": {},
   "outputs": [],
   "source": [
    "import numpy as np\n",
    "from scipy.optimize import minimize"
   ]
  },
  {
   "cell_type": "markdown",
   "metadata": {},
   "source": [
    "### User Equilibirum Formulation"
   ]
  },
  {
   "cell_type": "markdown",
   "metadata": {},
   "source": [
    "$\\min z(x)= 50x_1+0.5x_1^2+50x_2+0.5x_2^2+5x_3^2+5x_4^2$ \\\n",
    "s.t. \\\n",
    "$f_{1-4}+f_{3-2}=6$ \\\n",
    "$x_1=f_{1-4}$ \\\n",
    "$x_2=f_{3-2}$ \\\n",
    "$x_3=f_{3-2}$ \\\n",
    "$x_4=f_{1-4}$ \\\n",
    "$f_{1-4}, f_{3-2} \\geq 0$ \\\n",
    "$x_1,x_2,x_3,x_4 \\geq 0$\n",
    "\n",
    "To learn more about scipy visit https://docs.scipy.org/doc/scipy/reference/tutorial/optimize.html."
   ]
  },
  {
   "cell_type": "code",
   "execution_count": 31,
   "metadata": {},
   "outputs": [],
   "source": [
    "def objective(x):\n",
    "    x1 = x[0] #x_1\n",
    "    x2 = x[1] #x_2\n",
    "    x3 = x[2] #x_3\n",
    "    x4 = x[3] #x_4\n",
    "    x5 = x[4] #f_{1-4}\n",
    "    x6 = x[5] #f_{3-2}\n",
    "    return 50*x[0]+0.5*x[0]**2 + 50*x[1]+0.5*x[1]**2 + 5*x[2]**2 + 5*x[3]**2\n",
    "\n",
    "def constraint1(x):\n",
    "    return x[4]+x[5]-6\n",
    "\n",
    "def constraint2(x):\n",
    "    return x[0]-x[4]\n",
    "\n",
    "def constraint3(x):\n",
    "    return x[1]-x[5]\n",
    "\n",
    "def constraint4(x):\n",
    "    return x[2]-x[5]\n",
    "\n",
    "def constraint5(x):\n",
    "    return x[3]-x[4]\n",
    "\n",
    "def c1(x): \n",
    "    return 50+x[0]+10*x[3]\n",
    "def c2(x): \n",
    "    return 10*x[2]+50+x[1]\n",
    "def obj(x):\n",
    "    return (50+x[0])*x[0]+(50+x[1])*x[1]+10*x[2]**2+10*x[3]**2"
   ]
  },
  {
   "cell_type": "code",
   "execution_count": 32,
   "metadata": {},
   "outputs": [],
   "source": [
    "bnds = [(0, None), (0, None), (0, None), (0, None), (0, None), (0, None)]\n",
    "cons = [{'type': 'eq', 'fun': constraint1},\n",
    "        {'type': 'eq', 'fun': constraint2},\n",
    "        {'type': 'eq', 'fun': constraint3},\n",
    "        {'type': 'eq', 'fun': constraint4},\n",
    "        {'type': 'eq', 'fun': constraint5}]\n",
    "x_ini = [0,0,0,0,0,0]"
   ]
  },
  {
   "cell_type": "code",
   "execution_count": 33,
   "metadata": {},
   "outputs": [],
   "source": [
    "res = minimize(objective, x_ini, constraints=cons, bounds=bnds, tol=0.0001)"
   ]
  },
  {
   "cell_type": "code",
   "execution_count": 39,
   "metadata": {},
   "outputs": [
    {
     "data": {
      "text/plain": [
       "array([3.00000058, 2.99999942, 2.99999942, 3.00000058, 3.00000058,\n",
       "       2.99999942])"
      ]
     },
     "execution_count": 39,
     "metadata": {},
     "output_type": "execute_result"
    }
   ],
   "source": [
    "res.x"
   ]
  },
  {
   "cell_type": "code",
   "execution_count": 40,
   "metadata": {},
   "outputs": [
    {
     "data": {
      "text/plain": [
       "399.00000000000375"
      ]
     },
     "execution_count": 40,
     "metadata": {},
     "output_type": "execute_result"
    }
   ],
   "source": [
    "res.fun"
   ]
  },
  {
   "cell_type": "code",
   "execution_count": 43,
   "metadata": {},
   "outputs": [
    {
     "name": "stdout",
     "output_type": "stream",
     "text": [
      "travel time path 1-4: 83.00000641081051 travel time path 3-2: 82.9999935891895 total travel cost: 498.0000000000075\n"
     ]
    }
   ],
   "source": [
    "print('travel time path 1-4:',c1(res.x), 'travel time path 3-2:',c2(res.x), \"total travel cost:\", obj(res.x))"
   ]
  },
  {
   "cell_type": "markdown",
   "metadata": {},
   "source": [
    "### Link addition from node 4 to 3"
   ]
  },
  {
   "cell_type": "markdown",
   "metadata": {},
   "source": [
    "Braess Paradox Demonstration"
   ]
  },
  {
   "cell_type": "code",
   "execution_count": null,
   "metadata": {},
   "outputs": [],
   "source": []
  }
 ],
 "metadata": {
  "kernelspec": {
   "display_name": "Python 3",
   "language": "python",
   "name": "python3"
  },
  "language_info": {
   "codemirror_mode": {
    "name": "ipython",
    "version": 3
   },
   "file_extension": ".py",
   "mimetype": "text/x-python",
   "name": "python",
   "nbconvert_exporter": "python",
   "pygments_lexer": "ipython3",
   "version": "3.7.4"
  }
 },
 "nbformat": 4,
 "nbformat_minor": 4
}
