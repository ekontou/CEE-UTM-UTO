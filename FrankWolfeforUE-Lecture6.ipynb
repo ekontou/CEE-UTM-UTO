{
 "cells": [
  {
   "cell_type": "markdown",
   "metadata": {},
   "source": [
    "## Frank-Wolfe Algorithm Application\n",
    "Problem of Lecture 6 - page 5\n",
    "\n",
    "First, import numpy and scipy library."
   ]
  },
  {
   "cell_type": "code",
   "execution_count": 8,
   "metadata": {},
   "outputs": [],
   "source": [
    "import numpy as np\n",
    "import scipy.optimize as sopt"
   ]
  },
  {
   "cell_type": "markdown",
   "metadata": {},
   "source": [
    "Define the cost function $t(x)$ and its integration function, which is the objective function of UE. "
   ]
  },
  {
   "cell_type": "code",
   "execution_count": 9,
   "metadata": {},
   "outputs": [],
   "source": [
    "def t(x):\n",
    "    x1, x2, x3 = x\n",
    "    t1 = 10*(1+0.15*(x1/2)**4)\n",
    "    t2 = 20*(1+0.15*(x2/4)**4)\n",
    "    t3 = 25*(1+0.15*(x3/3)**4)\n",
    "    return [t1, t2, t3]\n",
    "\n",
    "def sum_int_t(x):\n",
    "    x1, x2, x3 = x\n",
    "    int_t1 = 10*x1 + 1.5/(5*2**4) * x1**5\n",
    "    int_t2 = 20*x2 + 3/(5*4**4) * x2**5\n",
    "    int_t3 = 25*x3 + 0.15*25/(5*3**4) * x3**5\n",
    "    return int_t1 + int_t2 + int_t3"
   ]
  },
  {
   "cell_type": "markdown",
   "metadata": {},
   "source": [
    "Initialize the set of points as a list named guesses. Define the total flow of the three alternative routes. "
   ]
  },
  {
   "cell_type": "code",
   "execution_count": 10,
   "metadata": {},
   "outputs": [],
   "source": [
    "guesses = []\n",
    "tot_flow = 10.0"
   ]
  },
  {
   "cell_type": "markdown",
   "metadata": {},
   "source": [
    "Function $step$: contains tasks of one iteration.\n",
    "1. Define and calulate cost $t(x)$ and objective function $sum\\_int\\_t(x)$.\n",
    "2. Find direction $y$: Set the flow direction $y$ to the route with minimum cost, similar to a network loading procedure with given link travel times. \n",
    "3. Find the step size $\\alpha \\in (0,1)$ \n",
    "    1. Define the objective function after moving as $func$.\n",
    "    2. Define the constraints $con$ to satisfy, including bound $\\alpha \\in (0,1)$.\n",
    "    3. Use $scipy.optimize.minimize$ tool to obtain the value of step size $\\alpha$.\n",
    "5. Update flow as $x^{n+1} = x^n + \\alpha * (y^n-x^n)$\n",
    "6. Do convergence test. If the current solution satisfies the convergence test, stop the iteration; if not, start a next iteration. \n"
   ]
  },
  {
   "cell_type": "code",
   "execution_count": 11,
   "metadata": {},
   "outputs": [],
   "source": [
    "def step(i):\n",
    "    print('in step',i+1)\n",
    "    \n",
    "    x = guesses[-1]\n",
    "\n",
    "    t_array = t(x)\n",
    "    Z = sum_int_t(x)\n",
    "    \n",
    "    print('\\tUpdate \\t\\tt\\t', np.round(t_array,decimals=3), '\\tZ(x)\\t', np.round(Z,decimals=2))\n",
    "    \n",
    "    # find y with min t\n",
    "    y_index = np.argmin(t_array)\n",
    "    y = np.array([0.0, 0.0, 0.0])\n",
    "    y[y_index] = tot_flow\n",
    "\n",
    "    print('\\tDirection \\ty\\t', np.round(y,decimals=2))\n",
    "\n",
    "    # objective function to minimize\n",
    "    def func(alpha):\n",
    "        return sum_int_t(x+alpha*(y-x))\n",
    "    \n",
    "    # find alpha that minimizes objective function\n",
    "    alpha = 0.0\n",
    "    bounds = [(0,1)]\n",
    "    res = sopt.minimize(func, alpha, bounds=bounds)\n",
    "    alpha = res.x\n",
    "    print('\\tStep \\t\\talpha\\t', np.round(alpha,decimals=3))\n",
    "\n",
    "    # update x\n",
    "    next_guess = x + alpha * (y-x)\n",
    "    guesses.append(next_guess)\n",
    "    print('\\tMove \\t\\tx\\t', np.round(next_guess,decimals=3))\n",
    "    "
   ]
  },
  {
   "cell_type": "code",
   "execution_count": 12,
   "metadata": {},
   "outputs": [],
   "source": [
    "def Converge_test(guesses):\n",
    "    delta = 0.01\n",
    "    x_01, x_11, x_21 = guesses[-2]\n",
    "    x_02, x_12, x_22 = guesses[-1]\n",
    "    temp = np.sqrt((x_02-x_01)**2 + (x_11-x_12)**2 + (x_21-x_22)**2)/(x_01+x_11+x_12)\n",
    "    return True if (temp < delta) else False"
   ]
  },
  {
   "cell_type": "markdown",
   "metadata": {},
   "source": [
    "main function to solve the Frank Wolfe for UE problem. "
   ]
  },
  {
   "cell_type": "code",
   "execution_count": 13,
   "metadata": {},
   "outputs": [
    {
     "name": "stdout",
     "output_type": "stream",
     "text": [
      "Init Guesses\t\tx\t [10.  0.  0.]\n",
      "in step 1\n",
      "\tUpdate \t\tt\t [947.5  20.   25. ] \tZ(x)\t 1975.0\n",
      "\tDirection \ty\t [ 0. 10.  0.]\n",
      "\tStep \t\talpha\t [0.597]\n",
      "\tMove \t\tx\t [4.035 5.965 0.   ]\n",
      "in step 2\n",
      "\tUpdate \t\tt\t [34.84 34.84 25.  ] \tZ(x)\t 197.4\n",
      "\tDirection \ty\t [ 0.  0. 10.]\n",
      "\tStep \t\talpha\t [0.161]\n",
      "\tMove \t\tx\t [3.384 5.004 1.611]\n",
      "in step 3\n",
      "\tUpdate \t\tt\t [22.301 27.349 25.312] \tZ(x)\t 189.99\n",
      "\tDirection \ty\t [10.  0.  0.]\n",
      "\tStep \t\talpha\t [0.036]\n",
      "\tMove \t\tx\t [3.62  4.826 1.554]\n",
      "in step 4\n",
      "\tUpdate \t\tt\t [26.093 26.358 25.27 ] \tZ(x)\t 189.45\n",
      "\tDirection \ty\t [ 0.  0. 10.]\n",
      "\tStep \t\talpha\t [0.02]\n",
      "\tMove \t\tx\t [3.546 4.728 1.726]\n",
      "in step 5\n",
      "\tUpdate \t\tt\t [24.82  25.855 25.411] \tZ(x)\t 189.36\n",
      "\tDirection \ty\t [10.  0.  0.]\n",
      "\tStep \t\talpha\t [0.007]\n",
      "\tMove \t\tx\t [3.592 4.694 1.714]\n",
      "in step 6\n",
      "\tUpdate \t\tt\t [25.611 25.688 25.4  ] \tZ(x)\t 189.34\n",
      "\tDirection \ty\t [ 0.  0. 10.]\n",
      "\tStep \t\talpha\t [0.005]\n",
      "\tMove \t\tx\t [3.573 4.669 1.758]\n"
     ]
    }
   ],
   "source": [
    "if __name__ == '__main__':\n",
    "    guesses = [np.array([10.0, 0.0, 0.0])]\n",
    "    print('Init Guesses\\t\\tx\\t',guesses[0])\n",
    "\n",
    "    for i in range(6):\n",
    "        step(i)\n",
    "        if Converge_test == True:\n",
    "            break\n",
    "    "
   ]
  },
  {
   "cell_type": "code",
   "execution_count": null,
   "metadata": {},
   "outputs": [],
   "source": []
  }
 ],
 "metadata": {
  "kernelspec": {
   "display_name": "Python 3",
   "language": "python",
   "name": "python3"
  },
  "language_info": {
   "codemirror_mode": {
    "name": "ipython",
    "version": 3
   },
   "file_extension": ".py",
   "mimetype": "text/x-python",
   "name": "python",
   "nbconvert_exporter": "python",
   "pygments_lexer": "ipython3",
   "version": "3.7.4"
  },
  "vscode": {
   "interpreter": {
    "hash": "ad2bdc8ecc057115af97d19610ffacc2b4e99fae6737bb82f5d7fb13d2f2c186"
   }
  }
 },
 "nbformat": 4,
 "nbformat_minor": 2
}
