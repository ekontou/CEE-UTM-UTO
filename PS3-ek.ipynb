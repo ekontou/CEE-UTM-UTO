{
 "cells": [
  {
   "cell_type": "code",
   "execution_count": 2,
   "metadata": {},
   "outputs": [],
   "source": [
    "import numpy as np\n",
    "from scipy.optimize import minimize"
   ]
  },
  {
   "cell_type": "markdown",
   "metadata": {},
   "source": [
    "### System Optimum Solution"
   ]
  },
  {
   "cell_type": "code",
   "execution_count": 3,
   "metadata": {},
   "outputs": [],
   "source": [
    "def objective(x):\n",
    "    x1 = x[0] #x_12\n",
    "    x2 = x[1] #x_13\n",
    "    x3 = x[2] #x_24\n",
    "    x4 = x[3] #x_34\n",
    "    x5 = x[4] #x_32\n",
    "    return 60*x[0]+x[0]**2 + 10*x[1]+10*x[1]**2 + 10*x[2]+10*x[2]**2 + 60*x[3]+x[3]**2 + 10*x[4]+x[4]**2\n",
    "\n",
    "def constraint1(x):\n",
    "    return x[3]+x[4]-x[1]-0.0001\n",
    "\n",
    "def constraint2(x):\n",
    "    return x[0]+x[4]-x[2]-0.0001\n",
    "\n",
    "def constraint3(x):\n",
    "    return x[0]+x[1]-6-0.0001\n",
    "\n",
    "def constraint4(x):\n",
    "    return x[2]+x[3]-6-0.0001"
   ]
  },
  {
   "cell_type": "code",
   "execution_count": 4,
   "metadata": {},
   "outputs": [],
   "source": [
    "bnds = [(0, None), (0, None), (0, None), (0, None), (0, None)]\n",
    "cons = [{'type': 'ineq', 'fun': constraint1},\n",
    "        {'type': 'ineq', 'fun': constraint2},\n",
    "        {'type': 'ineq', 'fun': constraint3},\n",
    "        {'type': 'ineq', 'fun': constraint4}]\n",
    "x_ini = [0,0,0,0,0]"
   ]
  },
  {
   "cell_type": "code",
   "execution_count": 5,
   "metadata": {},
   "outputs": [],
   "source": [
    "res = minimize(objective, x_ini, constraints=cons, bounds=bnds, tol=0.0001)"
   ]
  },
  {
   "cell_type": "code",
   "execution_count": 6,
   "metadata": {},
   "outputs": [
    {
     "data": {
      "text/plain": [
       "array([3.18190912e+00, 2.81819088e+00, 2.81819088e+00, 3.18190912e+00,\n",
       "       2.39125035e-11])"
      ]
     },
     "execution_count": 6,
     "metadata": {},
     "output_type": "execute_result"
    }
   ],
   "source": [
    "res.x"
   ]
  },
  {
   "cell_type": "code",
   "execution_count": 7,
   "metadata": {},
   "outputs": [
    {
     "data": {
      "text/plain": [
       "617.2860000256346"
      ]
     },
     "execution_count": 7,
     "metadata": {},
     "output_type": "execute_result"
    }
   ],
   "source": [
    "res.fun"
   ]
  },
  {
   "cell_type": "markdown",
   "metadata": {},
   "source": [
    "### Minmum Revenue Formulation"
   ]
  },
  {
   "cell_type": "markdown",
   "metadata": {},
   "source": [
    "To achieve minimum revenue from tolls collection the objective function is $\\sum_a x_a^{SO}\\tau_a$\n",
    "while constraints adhere to the first-best toll pricing as presented in Hearn and Ramana (1998)"
   ]
  },
  {
   "cell_type": "code",
   "execution_count": 8,
   "metadata": {},
   "outputs": [],
   "source": [
    "def objective2(tau):\n",
    "    tau1 = tau[0] #tau_12\n",
    "    tau2 = tau[1] #tau_13\n",
    "    tau3 = tau[2] #tau_24\n",
    "    tau4 = tau[3] #tau_34\n",
    "    tau5 = tau[4] #tau_32\n",
    "    labda = tau[5]\n",
    "    return 3*tau[0] + 3*tau[1] + 3*tau[2] + 3*tau[3] + 0*tau[4]\n",
    "\n",
    "def constraint1(tau):\n",
    "    return 6*tau[5]-3*(tau[0]+tau[1]+tau[2]+tau[3]) - 618\n",
    "\n",
    "def constraint2(tau):\n",
    "    return (-tau[5] + tau[0] + tau[2] + 103)\n",
    "\n",
    "def constraint3(tau):\n",
    "    return (-tau[5] + tau[1] + tau[3] + 103)\n",
    "\n",
    "def constraint4(tau):\n",
    "    return (+ 90 - tau[5] + tau[1] + tau[4] + tau[2])\n",
    "\n",
    "bnds = [(0, None), (0, None), (0, None), (0, None), (0, None), (None, None)]\n",
    "cons = [{'type': 'eq', 'fun': constraint1},\n",
    "        {'type': 'ineq', 'fun': constraint2},\n",
    "        {'type': 'ineq', 'fun': constraint3},\n",
    "        {'type': 'ineq', 'fun': constraint4}]\n",
    "x0=[0,0,0,0,0,0]\n",
    "solution = minimize(objective2,x0,constraints=cons, bounds=bnds, tol=0.0001)"
   ]
  },
  {
   "cell_type": "code",
   "execution_count": 9,
   "metadata": {},
   "outputs": [
    {
     "data": {
      "text/plain": [
       "array([  0.,   0.,   0.,   0.,  13., 103.])"
      ]
     },
     "execution_count": 9,
     "metadata": {},
     "output_type": "execute_result"
    }
   ],
   "source": [
    "solution.x"
   ]
  },
  {
   "cell_type": "code",
   "execution_count": 10,
   "metadata": {},
   "outputs": [
    {
     "data": {
      "text/plain": [
       "0.0"
      ]
     },
     "execution_count": 10,
     "metadata": {},
     "output_type": "execute_result"
    }
   ],
   "source": [
    "solution.fun"
   ]
  },
  {
   "cell_type": "markdown",
   "metadata": {},
   "source": [
    "### Problem 2"
   ]
  },
  {
   "cell_type": "code",
   "execution_count": 11,
   "metadata": {},
   "outputs": [
    {
     "name": "stdout",
     "output_type": "stream",
     "text": [
      "x1: 2.958662902561315 x2: 3.041337097438685 z: 23.637413783409677\n"
     ]
    }
   ],
   "source": [
    "from scipy.optimize import fsolve\n",
    "import math\n",
    "\n",
    "def equations(p):\n",
    "    x, y = p\n",
    "    return (x+y-6, x*math.exp(0.5*(1 + 0.01*x**4 - 0.02*y**4)) - y)\n",
    "\n",
    "x, y =  fsolve(equations, (3, 3))\n",
    "obj = 2*x + 0.01/5*x**5 + y + 0.02/5*y**5 + 2*(x*math.log(x) + y*math.log(y))\n",
    "print('x1:',x, 'x2:',y, \"z:\", obj)"
   ]
  },
  {
   "cell_type": "code",
   "execution_count": null,
   "metadata": {},
   "outputs": [],
   "source": []
  }
 ],
 "metadata": {
  "kernelspec": {
   "display_name": "Python 3",
   "language": "python",
   "name": "python3"
  },
  "language_info": {
   "codemirror_mode": {
    "name": "ipython",
    "version": 3
   },
   "file_extension": ".py",
   "mimetype": "text/x-python",
   "name": "python",
   "nbconvert_exporter": "python",
   "pygments_lexer": "ipython3",
   "version": "3.7.4"
  }
 },
 "nbformat": 4,
 "nbformat_minor": 4
}
